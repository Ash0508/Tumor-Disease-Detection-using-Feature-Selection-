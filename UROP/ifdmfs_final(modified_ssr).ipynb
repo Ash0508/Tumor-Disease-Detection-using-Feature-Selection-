{
 "cells": [
  {
   "cell_type": "code",
   "execution_count": 34,
   "id": "8d756182",
   "metadata": {},
   "outputs": [],
   "source": [
    "import numpy as np\n",
    "import pandas as pd\n",
    "import math\n",
    "import time\n",
    "\n",
    "# Define the file paths\n",
    "path = r\"D:\\SEM-5\\UROP\"\n",
    "dataset_name = \"dataset\"\n",
    "inp_path = f\"{path}\\\\{dataset_name}\\\\exdt.csv\"\n",
    "cmask_path = f\"{path}\\\\{dataset_name}\\\\cmask-exdt.csv\""
   ]
  },
  {
   "cell_type": "code",
   "execution_count": 35,
   "id": "46c039f4",
   "metadata": {},
   "outputs": [
    {
     "name": "stdout",
     "output_type": "stream",
     "text": [
      "D:\\SEM-5\\UROP\\dataset\\cmask-exdt.csv\n"
     ]
    }
   ],
   "source": [
    "print(cmask_path)\n",
    "start_time=time.time()"
   ]
  },
  {
   "cell_type": "code",
   "execution_count": 36,
   "id": "20e441e8",
   "metadata": {},
   "outputs": [],
   "source": [
    "inp_df = pd.read_csv(inp_path, header=None)\n",
    "cmask_df = pd.read_csv(cmask_path, header=None)"
   ]
  },
  {
   "cell_type": "code",
   "execution_count": 37,
   "id": "9a19ae9c",
   "metadata": {},
   "outputs": [],
   "source": [
    "#print(inp_df)"
   ]
  },
  {
   "cell_type": "code",
   "execution_count": 38,
   "id": "7d9b2432",
   "metadata": {},
   "outputs": [],
   "source": [
    "#print(cmask_df)"
   ]
  },
  {
   "cell_type": "code",
   "execution_count": 39,
   "id": "9753144b",
   "metadata": {},
   "outputs": [],
   "source": [
    "# Extract distinct decisions from the last column of the input DataFrame\n",
    "distinct_decisions = inp_df.iloc[:, -1].unique()\n",
    "# Convert the DataFrame to a NumPy array\n",
    "sample_input = inp_df.to_numpy()"
   ]
  },
  {
   "cell_type": "code",
   "execution_count": 40,
   "id": "4d013359",
   "metadata": {},
   "outputs": [],
   "source": [
    "#print(distinct_decisions)"
   ]
  },
  {
   "cell_type": "code",
   "execution_count": 41,
   "id": "b923d1f3",
   "metadata": {},
   "outputs": [],
   "source": [
    "#print(sample_input)"
   ]
  },
  {
   "cell_type": "code",
   "execution_count": 42,
   "id": "251f8af9",
   "metadata": {},
   "outputs": [],
   "source": [
    "# Extract the number of columns (attributes)\n",
    "num_attributes = sample_input.shape[1] - 1  # Subtract 1 for the decision column\n",
    "# Calculate the means for each attribute\n",
    "attribute_sums = np.sum(sample_input[:, :-1], axis=0)\n",
    "n = len(sample_input)\n",
    "means = attribute_sums / n\n",
    "# Calculate the standard deviations for each attribute\n",
    "differences = (sample_input[:, :-1] - means) ** 2\n",
    "variances = np.sum(differences, axis=0) / (n - 1)\n",
    "sigmas = np.sqrt(variances)"
   ]
  },
  {
   "cell_type": "code",
   "execution_count": 43,
   "id": "61a06346",
   "metadata": {},
   "outputs": [],
   "source": [
    "# Initialize variables for discernibility matrix and reduct\n",
    "dm = []\n",
    "reduct = set()\n",
    "non_reduct = set(range(num_attributes))"
   ]
  },
  {
   "cell_type": "code",
   "execution_count": 44,
   "id": "581fc659",
   "metadata": {},
   "outputs": [],
   "source": [
    "# Helper function to compute fuzzy dissimilarity between two rows\n",
    "def fuzzy_dissimilarity(row1, row2):\n",
    "    diff = row1 - row2\n",
    "    return np.minimum(np.maximum(1 - np.abs(diff / sigmas), 0), 1)"
   ]
  },
  {
   "cell_type": "code",
   "execution_count": 45,
   "id": "b8c5d59f",
   "metadata": {},
   "outputs": [],
   "source": [
    "# Construct the discernibility matrix\n",
    "for decision in distinct_decisions[:-1]:\n",
    "    decision_rows = sample_input[sample_input[:, -1] == decision]\n",
    "    sample_input = sample_input[sample_input[:, -1] != decision]\n",
    "    start = 0\n",
    "    batch_size = 20\n",
    "    while start < len(decision_rows):\n",
    "        end = min(start + batch_size, len(decision_rows))\n",
    "        batch = decision_rows[start:end]\n",
    "        joined = np.zeros((len(batch) * len(sample_input), num_attributes + 2))\n",
    "        joined_idx = 0\n",
    "        for x in batch:\n",
    "            for y in sample_input:\n",
    "                entry = np.zeros(num_attributes + 2)\n",
    "                for i in range(num_attributes):\n",
    "                    if cmask_df.iloc[0, i] == 1:\n",
    "                        # Numeric conditional attribute\n",
    "                        first = (x[i] - y[i] + sigmas[i]) / sigmas[i]\n",
    "                        second = (y[i] - x[i] + sigmas[i]) / sigmas[i]\n",
    "                        entry[i] = 1 - max(min(first, second), 0)\n",
    "                    else:\n",
    "                        # Categorical conditional attribute\n",
    "                        entry[i] = 0 if x[i] == y[i] else 1\n",
    "                entry[num_attributes] = min(1, np.sum(entry))\n",
    "                entry[num_attributes + 1] = 0\n",
    "                joined[joined_idx] = entry\n",
    "                joined_idx += 1\n",
    "        dm.append(joined)\n",
    "        start += batch_size"
   ]
  },
  {
   "cell_type": "code",
   "execution_count": 46,
   "id": "2c57eaa2",
   "metadata": {
    "scrolled": true
   },
   "outputs": [
    {
     "name": "stdout",
     "output_type": "stream",
     "text": [
      "dm= [array([[1.        , 0.45833891, 0.11410339, 0.14450343, 1.        ,\n",
      "        1.        , 0.        ],\n",
      "       [1.        , 1.        , 1.        , 1.        , 1.        ,\n",
      "        1.        , 0.        ],\n",
      "       [0.1891676 , 1.        , 0.87741572, 0.82104219, 0.91468951,\n",
      "        1.        , 0.        ],\n",
      "       [0.64715232, 0.20306154, 1.        , 0.34155355, 0.01747814,\n",
      "        1.        , 0.        ],\n",
      "       [1.        , 1.        , 1.        , 1.        , 0.18643353,\n",
      "        1.        , 0.        ],\n",
      "       [1.        , 0.18565627, 0.73183553, 1.        , 0.74573412,\n",
      "        1.        , 0.        ]])]\n",
      "tot dmat = [[1.0, 0.45833891149071326, 0.11410338977917789, 0.14450342592499688, 1.0, 1.0, 0.0], [1.0, 1.0, 1.0, 1.0, 1.0, 1.0, 0.0], [0.18916760228151952, 1.0, 0.8774157214054025, 0.821042192755664, 0.9146895114982473, 1.0, 0.0], [0.6471523235946715, 0.20306154306550606, 1.0, 0.3415535521863563, 0.01747814353181376, 1.0, 0.0], [1.0, 1.0, 1.0, 1.0, 0.18643353100601212, 1.0, 0.0], [1.0, 0.1856562679456053, 0.731835534445762, 1.0, 0.7457341240240489, 1.0, 0.0]]\n"
     ]
    }
   ],
   "source": [
    "#u = [dm[0]]\n",
    "print('dm=', dm)\n",
    "#flag = 0\n",
    "#for q in range(1, len(dm)):\n",
    "#    if flag == 0:\n",
    "#        u[0] = u[0] + dm[q]\n",
    "#        u.append(u[0])\n",
    "#        flag = 1\n",
    "#    else:\n",
    "#        u[1] = u[1] + dm[q]\n",
    "#        u[0] = u[1]\n",
    "#        flag = 0\n",
    "#tot_dmat = u[(len(dm) - 1) % 2]\n",
    "tot_dmat1 = list(dm)\n",
    "tot_dmat1 = [x.tolist() for x in tot_dmat1]\n",
    "#tot_dmat = dm.tolist()\n",
    "#tot_dmat = [x.tolist() for x in tot_dmat]\n",
    "#tot_dmat = tot_dmat.toList()\n",
    "#tot_dmat = dm.tolist()\n",
    "tot_dmat = [item for sublist in tot_dmat1 for item in sublist]\n",
    "print('tot dmat =', tot_dmat)\n",
    "# print('tot dmat1=', tot_dmat)"
   ]
  },
  {
   "cell_type": "code",
   "execution_count": 47,
   "id": "5f1874f6",
   "metadata": {},
   "outputs": [],
   "source": [
    "#print(tot_dmat)"
   ]
  },
  {
   "cell_type": "code",
   "execution_count": 48,
   "id": "d07d2d66",
   "metadata": {},
   "outputs": [
    {
     "name": "stdout",
     "output_type": "stream",
     "text": [
      "5\n"
     ]
    }
   ],
   "source": [
    "print(num_attributes)"
   ]
  },
  {
   "cell_type": "code",
   "execution_count": 49,
   "id": "afb19869",
   "metadata": {},
   "outputs": [
    {
     "name": "stdout",
     "output_type": "stream",
     "text": [
      "7\n"
     ]
    }
   ],
   "source": [
    "row_len = len(tot_dmat2[0])\n",
    "row_inds = set(range(num_attributes))\n",
    "Red = set()\n",
    "non_Red = row_inds.difference(Red)\n",
    "print(row_len)"
   ]
  },
  {
   "cell_type": "code",
   "execution_count": 50,
   "id": "8ba784a1",
   "metadata": {},
   "outputs": [
    {
     "name": "stdout",
     "output_type": "stream",
     "text": [
      "line= [1.0, 0.45833891149071326, 0.11410338977917789, 0.14450342592499688, 1.0, 1.0, 0.0]\n",
      "rsum= 0.0\n",
      "p value= 1.0\n",
      "p value= 0.45833891149071326\n",
      "p value= 0.11410338977917789\n",
      "p value= 0.14450342592499688\n",
      "p value= 1.0\n",
      "line= [1.0, 1.0, 1.0, 1.0, 1.0, 1.0, 0.0]\n",
      "rsum= 0.0\n",
      "p value= 1.0\n",
      "p value= 1.0\n",
      "p value= 1.0\n",
      "p value= 1.0\n",
      "p value= 1.0\n",
      "line= [0.18916760228151952, 1.0, 0.8774157214054025, 0.821042192755664, 0.9146895114982473, 1.0, 0.0]\n",
      "rsum= 0.0\n",
      "p value= 0.18916760228151952\n",
      "p value= 1.0\n",
      "p value= 0.8774157214054025\n",
      "p value= 0.821042192755664\n",
      "p value= 0.9146895114982473\n",
      "line= [0.6471523235946715, 0.20306154306550606, 1.0, 0.3415535521863563, 0.01747814353181376, 1.0, 0.0]\n",
      "rsum= 0.0\n",
      "p value= 0.6471523235946715\n",
      "p value= 0.20306154306550606\n",
      "p value= 1.0\n",
      "p value= 0.3415535521863563\n",
      "p value= 0.01747814353181376\n",
      "line= [1.0, 1.0, 1.0, 1.0, 0.18643353100601212, 1.0, 0.0]\n",
      "rsum= 0.0\n",
      "p value= 1.0\n",
      "p value= 1.0\n",
      "p value= 1.0\n",
      "p value= 1.0\n",
      "p value= 0.18643353100601212\n",
      "line= [1.0, 0.1856562679456053, 0.731835534445762, 1.0, 0.7457341240240489, 1.0, 0.0]\n",
      "rsum= 0.0\n",
      "p value= 1.0\n",
      "p value= 0.1856562679456053\n",
      "p value= 0.731835534445762\n",
      "p value= 1.0\n",
      "p value= 0.7457341240240489\n",
      "BEST ATTRIBUTE = 0\n",
      "REDUCT = {0}\n",
      "line= [0.1891676  1.         0.87741572 0.82104219 0.91468951 1.\n",
      " 0.1891676 ]\n",
      "rsum= 0.18916760228151952\n",
      "p value= 1.1891676022815196\n",
      "p value= 1.066583323686922\n",
      "p value= 1.0102097950371836\n",
      "p value= 1.1038571137797668\n",
      "line= [0.64715232 0.20306154 1.         0.34155355 0.01747814 1.\n",
      " 0.64715232]\n",
      "rsum= 0.6471523235946715\n",
      "p value= 0.8502138666601775\n",
      "p value= 1.6471523235946715\n",
      "p value= 0.9887058757810278\n",
      "p value= 0.6646304671264852\n",
      "BEST ATTRIBUTE = 2\n",
      "REDUCT = {0, 2}\n",
      "Reduct of D:\\SEM-5\\UROP\\dataset\\exdt.csv = {0, 2}\n",
      "Total time taken for reduct computation = 7.528282403945923\n"
     ]
    }
   ],
   "source": [
    "while len(tot_dmat) > 0:\n",
    "    att_sums = np.zeros(num_attributes, dtype=np.float32)\n",
    "    #print(att_sums)\n",
    "    for line in tot_dmat:\n",
    "        print(\"line=\", line)\n",
    "        rsum = line[num_attributes+1]\n",
    "        #rsum = line[num_attributes]\n",
    "        print(\"rsum=\", rsum)\n",
    "        #print(\"rsum=\", rsum)\n",
    "        for j in non_Red:\n",
    "            p = rsum + line[j]\n",
    "            print(\"p value=\", p)\n",
    "            if p >= 1:\n",
    "                p = 1.0\n",
    "            att_sums[j] += p\n",
    "           # print(\"att=\", j, \"and its sat=\", att_sums[j])\n",
    "    #print(\"attr sums=\", att_sums)\n",
    "        att_tot = np.sum(att_sums)\n",
    "        #print(\"att totals=\", att_tot)\n",
    "    best_att = np.argmax(att_sums)\n",
    "    Red.add(best_att)\n",
    "    #sat_val = np.sum(att_tot)\n",
    "    #print(\"Total sat value of all attts =\", sat_val)\n",
    "    print(\"BEST ATTRIBUTE =\", best_att)\n",
    "    print(\"REDUCT =\", Red)\n",
    "    non_Red.remove(best_att)\n",
    "    filter_dmat = []\n",
    "    for line in tot_dmat:\n",
    "        rsum = line[num_attributes+1]\n",
    "        if rsum + line[best_att] < line[num_attributes]:\n",
    "            line[num_attributes+1] += line[best_att]\n",
    "            filter_dmat.append(line)\n",
    "            #print(filter_dmat)\n",
    "    tot_dmat = np.array(filter_dmat)\n",
    "    #print(tot_dmat)\n",
    "\n",
    "print(\"Reduct of\", inp_path, \"=\", Red)\n",
    "#print(\"Reduct size =\", len(Red))\n",
    "#print(tot_dmat)\n",
    "print(\"Total time taken for reduct computation =\", time.time() - start_time)\n"
   ]
  },
  {
   "cell_type": "code",
   "execution_count": null,
   "id": "ddce2afb",
   "metadata": {},
   "outputs": [],
   "source": []
  },
  {
   "cell_type": "code",
   "execution_count": null,
   "id": "89a594fa",
   "metadata": {},
   "outputs": [],
   "source": []
  },
  {
   "cell_type": "code",
   "execution_count": null,
   "id": "067e5c9b",
   "metadata": {},
   "outputs": [],
   "source": []
  }
 ],
 "metadata": {
  "kernelspec": {
   "display_name": "Python 3 (ipykernel)",
   "language": "python",
   "name": "python3"
  },
  "language_info": {
   "codemirror_mode": {
    "name": "ipython",
    "version": 3
   },
   "file_extension": ".py",
   "mimetype": "text/x-python",
   "name": "python",
   "nbconvert_exporter": "python",
   "pygments_lexer": "ipython3",
   "version": "3.12.0"
  }
 },
 "nbformat": 4,
 "nbformat_minor": 5
}
